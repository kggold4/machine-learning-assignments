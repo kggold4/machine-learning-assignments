{
 "cells": [
  {
   "cell_type": "markdown",
   "metadata": {},
   "source": [
    "## Question 1:\n",
    "> Perceptron"
   ]
  },
  {
   "cell_type": "code",
   "execution_count": 27,
   "metadata": {},
   "outputs": [],
   "source": [
    "import numpy as np\n",
    "import matplotlib.pyplot as plt\n",
    "from utli_functions import create_data_from_file"
   ]
  },
  {
   "cell_type": "code",
   "execution_count": 35,
   "metadata": {},
   "outputs": [
    {
     "data": {
      "text/plain": [
       "array([-1, -1,  1, -1,  1, -1, -1,  1,  1, -1,  1, -1,  1,  1, -1,  1, -1,\n",
       "        1,  1, -1, -1,  1,  1, -1,  1,  1, -1, -1, -1,  1, -1,  1,  1, -1,\n",
       "       -1,  1, -1,  1, -1, -1,  1, -1,  1,  1,  1, -1,  1,  1,  1,  1, -1,\n",
       "       -1,  1, -1, -1, -1,  1, -1,  1,  1, -1,  1,  1,  1,  1, -1, -1,  1,\n",
       "       -1, -1,  1, -1, -1, -1,  1, -1, -1, -1,  1, -1,  1, -1,  1,  1, -1,\n",
       "        1, -1,  1, -1,  1, -1,  1, -1,  1, -1,  1,  1, -1, -1, -1,  1,  1,\n",
       "       -1, -1, -1,  1,  1,  1, -1, -1,  1,  1,  1, -1,  1,  1,  1,  1,  1,\n",
       "       -1, -1,  1,  1,  1, -1,  1,  1,  1,  1, -1,  1,  1,  1, -1, -1,  1,\n",
       "        1,  1,  1, -1,  1, -1,  1, -1,  1, -1,  1,  1,  1, -1])"
      ]
     },
     "execution_count": 35,
     "metadata": {},
     "output_type": "execute_result"
    }
   ],
   "source": [
    "X, y = create_data_from_file(file_name='two_circle.txt')\n",
    "\n",
    "# print y\n",
    "y"
   ]
  },
  {
   "cell_type": "code",
   "execution_count": 30,
   "metadata": {
    "pycharm": {
     "name": "#%%\n"
    }
   },
   "outputs": [],
   "source": [
    "class Perceptron(object):\n",
    "    def __init__(self):\n",
    "        self.errors_ = None\n",
    "        self.learning_rate = 0.1\n",
    "        self.weights = None\n",
    "        self.bias = 0.1\n",
    "        self.n_iter = 100\n",
    "    def net_input(self, X):\n",
    "        z = np.dot(X, self.weights[:]) + self.bias\n",
    "        return z\n",
    "\n",
    "    def predict(self, X):\n",
    "        return np.where(self.net_input(X) >= 0, 1, -1)\n",
    "\n",
    "    def fit(self, X, y):\n",
    "        rgen = np.random.RandomState(1)\n",
    "        self.weights = rgen.normal(loc=0.0, scale=0.01, size=1+X.shape[1])\n",
    "        self.bias=self.weights[0]\n",
    "        self.weights=self.weights[1:]\n",
    "        self.errors_ = []\n",
    "        for _ in range(self.n_iter): #Repeat training data for the number of trainings\n",
    "            output = self.predict(X)\n",
    "            errors = y - output\n",
    "            self.weights[:] += self.learning_rate * X.T.dot(errors)\n",
    "            # Weight w_Update 0\n",
    "            self.bias += self.learning_rate*errors\n",
    "            \n",
    "            # Calculation of cost function\n",
    "            cost = Perceptron.MSE(y,output)\n",
    "\n",
    "            # cost storage\n",
    "            self.errors_.append(cost)\n",
    "        return self\n",
    "\n",
    "    @staticmethod\n",
    "    def MSE(real, output):\n",
    "        return ((np.array(real) - np.array(output))**2).mean()\n",
    "\n",
    "    @staticmethod\n",
    "    def accuracy(real, output):\n",
    "        count = t != np.sign(test_label)\n",
    "        return np.sum(count)/len(real)"
   ]
  },
  {
   "cell_type": "code",
   "execution_count": 31,
   "metadata": {},
   "outputs": [
    {
     "data": {
      "image/png": "[encoded data removed]",
      "text/plain": [
       "<Figure size 432x288 with 1 Axes>"
      ]
     },
     "metadata": {
      "needs_background": "light"
     },
     "output_type": "display_data"
    }
   ],
   "source": [
    "per_model=Perceptron()\n",
    "per_model.fit(x,y)\n",
    "plt.plot(per_model.errors_)\n",
    "plt.show()"
   ]
  },
  {
   "cell_type": "code",
   "execution_count": 32,
   "metadata": {
    "pycharm": {
     "name": "#%%\n"
    }
   },
   "outputs": [
    {
     "data": {
      "image/png": "[encoded data removed]",
      "text/plain": [
       "<Figure size 432x288 with 1 Axes>"
      ]
     },
     "metadata": {
      "needs_background": "light"
     },
     "output_type": "display_data"
    }
   ],
   "source": [
    "plt.plot(range(1, len(per_model.errors_) + 1), per_model.errors_, marker = 'x')\n",
    "plt.title(\"Visualisation of errors\")\n",
    "plt.xlabel('Epochs')\n",
    "plt.ylabel('Errors')\n",
    "plt.show()"
   ]
  },
  {
   "cell_type": "code",
   "execution_count": 34,
   "metadata": {},
   "outputs": [
    {
     "data": {
      "image/png": "[encoded data removed]",
      "text/plain": [
       "<Figure size 432x288 with 1 Axes>"
      ]
     },
     "metadata": {
      "needs_background": "light"
     },
     "output_type": "display_data"
    }
   ],
   "source": [
    "plot_labels(x,per_model)"
   ]
  },
  {
   "cell_type": "code",
   "execution_count": null,
   "metadata": {},
   "outputs": [],
   "source": []
  }
 ],
 "metadata": {
  "interpreter": {
   "hash": "452b686069e71014873ba86fd5c32472dbbe20c08eaff37333441e1d41ed0e07"
  },
  "kernelspec": {
   "display_name": "Python (base)",
   "language": "python",
   "name": "python3"
  },
  "language_info": {
   "codemirror_mode": {
    "name": "ipython",
    "version": 3
   },
   "file_extension": ".py",
   "mimetype": "text/x-python",
   "name": "python",
   "nbconvert_exporter": "python",
   "pygments_lexer": "ipython3",
   "version": "3.10.4"
  }
 },
 "nbformat": 4,
 "nbformat_minor": 1
}
