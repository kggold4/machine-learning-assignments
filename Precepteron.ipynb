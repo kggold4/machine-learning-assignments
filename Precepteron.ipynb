{
 "cells": [
  {
   "cell_type": "code",
   "execution_count": 13,
   "metadata": {},
   "outputs": [],
   "source": [
    "import numpy as np\n",
    "import matplotlib.pyplot as plt\n",
    "\n",
    "def create_data():\n",
    "    data = []\n",
    "    #y = []\n",
    "    label = []\n",
    "    #file1=open('two_circle.txt')\n",
    "    with open('two_circle.txt', 'r') as text:\n",
    "        #lines=text.readlines()\n",
    "        for line in text.readlines():\n",
    "            _x, _y, _label = line.split()\n",
    "            data.append((float(_x),float(_y)))\n",
    "            #y.append(float(_y))\n",
    "            label.append(int(_label))\n",
    "    label = np.array(label)\n",
    "    return np.array(data), np.array(label)\n",
    "\n",
    "# x,y,label=file.split()\n",
    "# print(x)"
   ]
  },
  {
   "cell_type": "code",
   "execution_count": 2,
   "metadata": {},
   "outputs": [
    {
     "data": {
      "text/plain": [
       "array([-1, -1,  1, -1,  1, -1, -1,  1,  1, -1,  1, -1,  1,  1, -1,  1, -1,\n",
       "        1,  1, -1, -1,  1,  1, -1,  1,  1, -1, -1, -1,  1, -1,  1,  1, -1,\n",
       "       -1,  1, -1,  1, -1, -1,  1, -1,  1,  1,  1, -1,  1,  1,  1,  1, -1,\n",
       "       -1,  1, -1, -1, -1,  1, -1,  1,  1, -1,  1,  1,  1,  1, -1, -1,  1,\n",
       "       -1, -1,  1, -1, -1, -1,  1, -1, -1, -1,  1, -1,  1, -1,  1,  1, -1,\n",
       "        1, -1,  1, -1,  1, -1,  1, -1,  1, -1,  1,  1, -1, -1, -1,  1,  1,\n",
       "       -1, -1, -1,  1,  1,  1, -1, -1,  1,  1,  1, -1,  1,  1,  1,  1,  1,\n",
       "       -1, -1,  1,  1,  1, -1,  1,  1,  1,  1, -1,  1,  1,  1, -1, -1,  1,\n",
       "        1,  1,  1, -1,  1, -1,  1, -1,  1, -1,  1,  1,  1, -1])"
      ]
     },
     "execution_count": 2,
     "metadata": {},
     "output_type": "execute_result"
    }
   ],
   "source": [
    "x, y = create_data()\n",
    "y"
   ]
  },
  {
   "cell_type": "code",
   "execution_count": 3,
   "metadata": {
    "pycharm": {
     "name": "#%%\n"
    }
   },
   "outputs": [],
   "source": [
    "class Perceptron(object):\n",
    "    # learning_rate = 0.01\n",
    "\n",
    "    def __init__(self):\n",
    "        self.errors_ = None\n",
    "        self.learning_rate = 0.1\n",
    "        self.weights=None\n",
    "        self.bias=0.1\n",
    "        self.n_iter=100\n",
    "    def net_input(self, X):\n",
    "        z = np.dot(X, self.weights[:]) + self.bias\n",
    "        return z\n",
    "\n",
    "    def predict(self, X):\n",
    "        return np.where(self.net_input(X) >= 0, 1, -1)\n",
    "\n",
    "    def fit(self, X, y):\n",
    "        rgen = np.random.RandomState(1)\n",
    "        self.weights = rgen.normal(loc=0.0, scale=0.01, size=1+X.shape[1])\n",
    "        self.bias=self.weights[0]\n",
    "        self.weights=self.weights[1:]\n",
    "        self.errors_ = []\n",
    "        for _ in range(self.n_iter): #Repeat training data for the number of trainings\n",
    "            output = self.predict(X)\n",
    "            errors = y - output\n",
    "            self.weights[:] += self.learning_rate * X.T.dot(errors)\n",
    "            #Weight w_Update 0\n",
    "            self.bias += self.learning_rate*errors\n",
    "            #Calculation of cost function\n",
    "            cost = Perceptron.MSE(y,output)\n",
    "            #Cost storage\n",
    "            self.errors_.append(cost)\n",
    "        return self\n",
    "\n",
    "#     def fit(self, X, y):\n",
    "#         rand = np.random.RandomState(1)\n",
    "#         self.weights = rand.normal(loc=0.0, scale=0.01, size=1+X.shape[1])\n",
    "#         self.bias=self.weights[0]\n",
    "#         self.weights=self.weights[1:]\n",
    "#         self.errors_ = []\n",
    "#         for _ in range(100):\n",
    "#             errors = 0\n",
    "#             for _p, target in zip(X, y):\n",
    "#                 y_hat=self.predict(_p)\n",
    "#                 errors = target-y_hat\n",
    "#                 update = self.learning_rate * errors\n",
    "#                 self.weights[:] += update * _p\n",
    "#                 self.bias += update\n",
    "#                 errors += int(update != 0.0)\n",
    "#                 #cost = (errors ** 2).sum() / 2.0\n",
    "#                 #Cost storage\n",
    "#                 #self.cost_.append(cost)\n",
    "#             self.errors_.append(errors)\n",
    "\n",
    "    @staticmethod\n",
    "    def MSE(real, output):\n",
    "        return ((np.array(real) - np.array(output))**2).mean()\n",
    "\n",
    "    @staticmethod\n",
    "    def accuracy(real, output):\n",
    "        count = t != np.sign(test_label)\n",
    "        return np.sum(count)/len(real)\n",
    "\n",
    "\n"
   ]
  },
  {
   "cell_type": "code",
   "execution_count": 4,
   "metadata": {},
   "outputs": [
    {
     "data": {
      "image/png": "[encoded data removed]",
      "text/plain": [
       "<Figure size 432x288 with 1 Axes>"
      ]
     },
     "metadata": {
      "needs_background": "light"
     },
     "output_type": "display_data"
    }
   ],
   "source": [
    "per_model=Perceptron()\n",
    "per_model.fit(x,y)\n",
    "plt.plot(per_model.errors_)\n",
    "plt.show()"
   ]
  },
  {
   "cell_type": "code",
   "execution_count": 5,
   "metadata": {
    "pycharm": {
     "name": "#%%\n"
    }
   },
   "outputs": [
    {
     "data": {
      "image/png": "[encoded data removed]",
      "text/plain": [
       "<Figure size 432x288 with 1 Axes>"
      ]
     },
     "metadata": {
      "needs_background": "light"
     },
     "output_type": "display_data"
    }
   ],
   "source": [
    "plt.plot(range(1, len(per_model.errors_) + 1), per_model.errors_, marker = 'x')\n",
    "plt.title(\"Visualisation of errors\")\n",
    "plt.xlabel('Epochs')\n",
    "plt.ylabel('Errors')\n",
    "plt.show()"
   ]
  },
  {
   "cell_type": "code",
   "execution_count": 6,
   "metadata": {},
   "outputs": [],
   "source": [
    "def plot_labels(x,model):\n",
    "    \"\"\"\n",
    "    Plot the outputs of each neuron in the given layer\n",
    "    \"\"\"\n",
    "    neuron_number = 0\n",
    "    #for neuron in layer_output:\n",
    "    y_hat=model.predict(x)\n",
    "        # green dots\n",
    "    plt.scatter(x=x[y_hat == -1, 1], y=x[y_hat == -1, 0], alpha=0.9,\n",
    "                    c='green', marker='s', label=-1.0)\n",
    "\n",
    "        # orange dots\n",
    "    plt.scatter(x=x[y_hat == 1, 1], y=x[y_hat == 1, 0], alpha=0.9,\n",
    "                    c='orange', label=1.0)\n",
    "\n",
    "        # location of the legend\n",
    "    plt.legend(loc='upper left')\n",
    "\n",
    "#         # set the title\n",
    "#         if title:\n",
    "#             plt.title(title)\n",
    "#         else:\n",
    "#             plt.title(\"Layer: \" + str(layer_number) + \" Neuron: \" + str(neuron_number + 1))\n",
    "#         neuron_number += 1\n",
    "\n",
    "        # plot\n",
    "    plt.show()"
   ]
  },
  {
   "cell_type": "code",
   "execution_count": 7,
   "metadata": {},
   "outputs": [
    {
     "data": {
      "image/png": "[encoded data removed]",
      "text/plain": [
       "<Figure size 432x288 with 1 Axes>"
      ]
     },
     "metadata": {
      "needs_background": "light"
     },
     "output_type": "display_data"
    }
   ],
   "source": [
    "plot_labels(x,per_model)"
   ]
  },
  {
   "cell_type": "markdown",
   "metadata": {},
   "source": [
    "# Part 2:"
   ]
  },
  {
   "cell_type": "code",
   "execution_count": 38,
   "metadata": {},
   "outputs": [],
   "source": [
    "from sklearn.model_selection import train_test_split\n",
    "def read_data2():\n",
    "    points=[]\n",
    "    with open('four_circle.txt', 'r') as text:\n",
    "        for line in text.readlines():\n",
    "            _x, _y, _label = line.split()\n",
    "            #lines.append(Line())\n",
    "            points.append(Point(float(_x),float(_y),int(_label)))\n",
    "    points=np.array(points)\n",
    "    lines=create_lines(points)\n",
    "    return points,lines\n",
    "\n",
    "def create_lines(points):\n",
    "    lines=[]\n",
    "    for i in range(len(points)):\n",
    "        p1=points[i]\n",
    "        for j in range(i+1,len(points)):\n",
    "            p2=points[j]\n",
    "            lines.append(Line(p1,p2,1))\n",
    "            lines.append(Line(p1,p2,-1))\n",
    "    return np.array(lines)\n",
    "\n",
    "def split_data(points: list):\n",
    "    \"\"\"\n",
    "    splits the data into train and test //maybe wil be depraceted later\n",
    "    :param points: list of data points\n",
    "    :return: train & test groups.\n",
    "    \"\"\"\n",
    "    return train_test_split(points, test_size=0.5, random_state=42)"
   ]
  },
  {
   "cell_type": "code",
   "execution_count": 39,
   "metadata": {},
   "outputs": [],
   "source": [
    "class Point:\n",
    "    def __init__(self, x: float, y: float, label: int):\n",
    "        \"\"\"\n",
    "        :param x: X-axis\n",
    "        :param y: Y-axis\n",
    "        :param label: The given data point label\n",
    "        \"\"\"\n",
    "        self.x = x\n",
    "        self.y = y\n",
    "        self.label = label\n",
    "        self.w = 0\n",
    "\n",
    "#     def toArray(self):\n",
    "#         \"\"\"\n",
    "#         This function converts a single data point into array: [x, y, label]\n",
    "#         :return: array\n",
    "#         \"\"\"\n",
    "#         return [self.x, self.y, self.label]"
   ]
  },
  {
   "cell_type": "code",
   "execution_count": 40,
   "metadata": {},
   "outputs": [],
   "source": [
    "class Line:\n",
    "    def __init__(self, p1: Point, p2: Point, direct: int):\n",
    "        \"\"\"\n",
    "        - Rule: y=ax+b\n",
    "        :param point: Single point for computing line equation.\n",
    "        :param coefficient: a\n",
    "        :param bias: b\n",
    "        \"\"\"\n",
    "        self.p1 = p1\n",
    "        self.p2 = p2\n",
    "        #self.a = (self.p1.y - self.p2.y)\n",
    "        x=self.p1.x-self.p2.x\n",
    "        y=self.p1.y-self.p2.y\n",
    "#         self.b = (self.p2.x - self.p1.x)\n",
    "#         self.c = (self.p1.x * self.p2.y - self.p2.x * self.p1.y)\n",
    "        self.direct = direct\n",
    "        self.w=0\n",
    "\n",
    "    def eval(self, p: Point):\n",
    "        \"\"\"\n",
    "        we will use the following equation to determine the label of a point\n",
    "        value = (x1 - x0)(y2 - y0) - (x2 - x0)(y1 - y0)\n",
    "        if value > 0, p2 is on the left side of the line.\n",
    "        if value = 0, p2 is on the same line.\n",
    "        if value < 0, p2 is on the right side of the line.\n",
    "        :return: eval\n",
    "        \"\"\"\n",
    "        if x*(p.x-self.p2.x)-(p.x-self.p2.x)*y>=0:\n",
    "            return self.direct\n",
    "        else:\n",
    "            return -self.direct"
   ]
  },
  {
   "cell_type": "code",
   "execution_count": 41,
   "metadata": {},
   "outputs": [],
   "source": [
    "\n",
    "#     if len(points) % 2 == 0:\n",
    "#         return points[:int(len(points) / 2)], points[int(len(points) / 2):]\n",
    "#     else:\n",
    "#         return points[:int((len(points) + 1) / 2)], points[int((len(points) + 1) / 2):]\n",
    "\n"
   ]
  },
  {
   "cell_type": "code",
   "execution_count": 52,
   "metadata": {},
   "outputs": [
    {
     "ename": "IndentationError",
     "evalue": "unexpected indent (Temp/ipykernel_15572/3757614100.py, line 88)",
     "output_type": "error",
     "traceback": [
      "\u001B[1;36m  File \u001B[1;32m\"C:\\Users\\talso\\AppData\\Local\\Temp/ipykernel_15572/3757614100.py\"\u001B[1;36m, line \u001B[1;32m88\u001B[0m\n\u001B[1;33m    if error != min_error: \"\"\"if its smaller than the current min classifier then change it\"\"\"\u001B[0m\n\u001B[1;37m    ^\u001B[0m\n\u001B[1;31mIndentationError\u001B[0m\u001B[1;31m:\u001B[0m unexpected indent\n"
     ]
    }
   ],
   "source": [
    "def predict(lines: list, point: Point):\n",
    "    \"\"\"\n",
    "    This function predicts the true label of a points based\n",
    "    on the rules given with their corresponding weights\n",
    "    Hk(X) from the presentation\n",
    "    \"\"\"\n",
    "    sum = 0\n",
    "    for h in lines:\n",
    "        sum += h.w * h.eval(point)\n",
    "    return 1 if sum > 0 else -1\n",
    "\n",
    "\n",
    "def point_error(lines: list, point: Point):\n",
    "    \"\"\"\n",
    "    This function calculates the error on given point with a given set of rules\n",
    "    \"\"\"\n",
    "    return 1 if predict(lines, point) != point.label else 0\n",
    "\n",
    "\n",
    "def list_error(lines: list, pnts: list):\n",
    "    \"\"\"\n",
    "      This function calculates the error on given points\n",
    "      :param rules_with_weights: list of important rules.\n",
    "      :param l: list of data points (training set)\n",
    "      :return: total error\n",
    "      \"\"\"\n",
    "    total_error = 0\n",
    "   # positive_error_sum = 0\n",
    "#     positive_count = 0\n",
    "#     negative_error_sum = 0\n",
    "#     negative_count = 0\n",
    "\n",
    "    for p in pnts:\n",
    "        error = point_error(lines, p)\n",
    "        total_error += error\n",
    "\n",
    "    return total_error / len(points)\n",
    "\n",
    "\n",
    "def calculate_error(lines: list, train: list, test: list, iterations: int):\n",
    "    \"\"\"\n",
    "    This function calculates the empirical error on the training and test sets.\n",
    "    :param rules_with_weights: list of important rules.\n",
    "    :param train: list of data points (training set)\n",
    "    :param test: list of data points (testing set)\n",
    "    :param iterations: number of iterations for computing the empirical errors\n",
    "    :return: lists of empirical errors on the training and testing set over k iterations.\n",
    "    - NOTE: This function was CHANGED!\n",
    "    \"\"\"\n",
    "    #train_errors, test_errors = ([] for _ in range(2))\n",
    "    train_errs=[]\n",
    "    test_errs=[]\n",
    "    iterations = len(lines) if iterations > len(lines) else iterations\n",
    "\n",
    "    for i in range(iterations):\n",
    "        train_errs.append(list_error(lines[:i + 1], train))\n",
    "        test_errs.append(list_error(lines[:i + 1], test))\n",
    "\n",
    "    return train_errors, test_errors\n",
    "\n",
    "\n",
    "def run(points: list, rules: list, iterations: int):\n",
    "    \"\"\"\n",
    "    This function simulates a single run of Adaboost algorithm.\n",
    "    :param points: list of data points\n",
    "    :param iterations: number of iterations to perform the algorithm.\n",
    "    :return:\n",
    "    \"\"\"\n",
    "    train, test = split_data(points)\n",
    "    for pt in train:\n",
    "        pt.w = 1 / len(train)  # Initialize point weights\n",
    "    min_lines = []\n",
    "    for i in range(iterations):\n",
    "        min_error = np.inf  # Find the min error each iteration and the classifier.\n",
    "        min_clfs = []\n",
    "        for h in rules:\n",
    "            error = 0\n",
    "            for pt in train:\n",
    "                \"\"\"step 3 , caculate weighted error\"\"\"\n",
    "                if h.eval(pt) != pt.label:\n",
    "                    error += pt.w\n",
    "\n",
    "            if len(min_clfs) == 0 or error <= min_error:   \"\"\"Find min. error classifier step 4\"\"\"\n",
    "                if error != min_error: \"\"\"if its smaller than the current min classifier then change it\"\"\"\n",
    "                    min_error = error\n",
    "                    min_clfs.clear()\n",
    "                min_clfs.append(h)\n",
    "\n",
    "        clf_weight = 0.5*np.log((1 - min_error) / min_error) \"\"\"  Update classifier weight based on error , step 5\"\"\"\n",
    "        Zt = 0\n",
    "        min_clf = min_clfs[0] #get the best classifier#random.choice(min_classifiers)\n",
    "\n",
    "        for pt in train:\n",
    "            \"\"\" Calculate the normalizing constant (Zt) step 5.5 and update all the points weights\"\"\"\n",
    "            pt.w = pt.w * (math.e ** (clf_weight * min_clf.eval(pt) * pt.label))\n",
    "            Zt += pt.w\n",
    "        for pt in train:\n",
    "            pt.w = pt.w / Zt\n",
    "        min_clf.w=clf_weight\n",
    "        min_lines.append(min_clf)\n",
    "    return calculate_error(lines, train, test, iterations)\n",
    "\n",
    "    # TODO - Return the empirical error of the function H on the training set and on the test set."
   ]
  },
  {
   "cell_type": "code",
   "execution_count": null,
   "outputs": [],
   "source": [
    "points,lines = read_data2()\n",
    "#lines = create_lines(points)\n",
    "iterations = 8\n",
    "rounds = 100\n",
    "error_means_train=[]\n",
    "error_means_test=[]\n",
    "train_errors= np.zeros(shape=(rounds,iterations))\n",
    "test_errors = np.zeros(shape=(rounds,iterations))\n",
    "# train_errors = [[0 for i in range(rounds)] for j in range(iterations)]\n",
    "# train_errors_pos = [[0 for i in range(rounds)] for j in range(iterations)]\n",
    "# train_errors_neg = [[0 for i in range(rounds)] for j in range(iterations)]\n",
    "\n",
    "# test_errors = [[0 for i in range(rounds)] for j in range(iterations)]\n",
    "# test_errors_pos = [[0 for i in range(rounds)] for j in range(iterations)]\n",
    "# test_errors_neg = [[0 for i in range(rounds)] for j in range(iterations)]\n",
    "\n",
    "for i in range(rounds):\n",
    "    train_error, test_error = run(points, lines, iterations)\n",
    "\n",
    "    for j in range(iterations):\n",
    "        train_errors[j][i] = train_error[j][0]\n",
    "        error_means_train=np.mean(train_error)\n",
    "#         train_errors_pos[j][i] = train_error[j][1]\n",
    "#         train_errors_neg[j][i] = train_error[j][2]\n",
    "        error_means_test=np.mean(test_error)\n",
    "        test_errors[j][i] = test_error[j][0]\n",
    "#         test_errors_pos[j][i] = test_error[j][1]\n",
    "#         test_errors_neg[j][i] = test_error[j][2]\n",
    "\n",
    "    print(i)\n",
    "\n",
    "print(\"error\")\n",
    "for i in range(iterations):\n",
    "    print(\"k = \", (i + 1),\n",
    "          \"train error: \", \"%.3f\" %train_means_train[i],\n",
    "          \"test error: \", \"%.3f\" % error_means_test[i])\n",
    "# def generate_data_lists(points: list, lines: list):\n",
    "#     \"\"\"\n",
    "#     This function receives a list of data points and converts it to 4 different lists:\n",
    "#     - X and Y list of data points for each label.\n",
    "#     :param points: list of data points to convert\n",
    "#     :return: the generated lists\n",
    "#     \"\"\"\n",
    "#     x1, y1, x2, y2 = ([] for _ in range(4))\n",
    "#     for pt in points:\n",
    "#         if pt.label != predict_value(lines, pt):\n",
    "#             x1.append(pt.x)\n",
    "#             y1.append(pt.y)\n",
    "#         else:\n",
    "#             x2.append(pt.x)\n",
    "#             y2.append(pt.y)\n",
    "#     return x1, y1, x2, y2\n",
    "\n",
    "\n",
    "# def represent_data_points(points: list, rules_with_weights: list):\n",
    "#     \"\"\"\n",
    "#     This function plots the data points.\n",
    "#     :param points: list of data points to plot.\n",
    "#     :return: None\n",
    "#     \"\"\"\n",
    "#     x1, y1, x2, y2 = generate_data_lists(points, rules_with_weights)\n",
    "#     plt.scatter(x1, y1, color='red')\n",
    "#     plt.scatter(x2, y2, color='blue')\n",
    "\n",
    "#     for rule in lines:\n",
    "#         r = rule\n",
    "#         plt.plot([r.p1.x, r.p1.y], [r.p2.x, r.p2.y], marker='o')\n",
    "\n",
    "#     # TODO - Add classifier lines\n",
    "\n",
    "#     plt.show()\n"
   ],
   "metadata": {
    "collapsed": false,
    "pycharm": {
     "name": "#%%\n"
    }
   }
  },
  {
   "cell_type": "code",
   "execution_count": null,
   "metadata": {},
   "outputs": [],
   "source": []
  },
  {
   "cell_type": "code",
   "execution_count": null,
   "metadata": {},
   "outputs": [],
   "source": []
  },
  {
   "cell_type": "code",
   "execution_count": null,
   "metadata": {},
   "outputs": [],
   "source": []
  },
  {
   "cell_type": "code",
   "execution_count": null,
   "metadata": {},
   "outputs": [],
   "source": []
  },
  {
   "cell_type": "code",
   "execution_count": null,
   "metadata": {},
   "outputs": [],
   "source": []
  }
 ],
 "metadata": {
  "kernelspec": {
   "display_name": "Python (base)",
   "language": "python",
   "name": "base"
  },
  "language_info": {
   "codemirror_mode": {
    "name": "ipython",
    "version": 3
   },
   "file_extension": ".py",
   "mimetype": "text/x-python",
   "name": "python",
   "nbconvert_exporter": "python",
   "pygments_lexer": "ipython3",
   "version": "3.8.5"
  }
 },
 "nbformat": 4,
 "nbformat_minor": 1
}